{
 "cells": [
  {
   "cell_type": "code",
   "execution_count": null,
   "id": "f7939626",
   "metadata": {},
   "outputs": [],
   "source": [
    "import pandas as pd\n",
    "from pandas.tseries.offsets import DateOffset\n",
    "from fredapi import Fred"
   ]
  },
  {
   "cell_type": "code",
   "execution_count": null,
   "id": "5dfb91ba",
   "metadata": {},
   "outputs": [],
   "source": [
    "# Note: Prior to running Program, ensure that the stock_data.csv is in the same jupyter notebook"
   ]
  },
  {
   "cell_type": "code",
   "execution_count": null,
   "id": "daf16720",
   "metadata": {},
   "outputs": [],
   "source": [
    "# establish time frame from stock data (this will work for most time frames)\n",
    "data = pd.read_csv(\"stock_data.csv\", parse_dates =[\"Date\"]) # NOTE: Update to your file's date/time column name if needed\n",
    "data.set_index(\"Date\", inplace=True) # NOTE: Update to your file's date/time collumn name if needed\n",
    "data = data.sort_index(ascending=True) # Set to decreasing order\n",
    "data.index = pd.to_datetime(data.index, utc=True)\n",
    "data_index = data.index # create index object for use in macro dataframe below\n",
    "data_index"
   ]
  },
  {
   "cell_type": "code",
   "execution_count": null,
   "id": "66b75759",
   "metadata": {},
   "outputs": [],
   "source": [
    "# Establish Start and End Date for Fred Data Pull \n",
    "start_date = data_index[0] - DateOffset(years=1) # Pull additional data (we will discard excess later)\n",
    "end_date = None\n",
    "start_date=pd.to_datetime(start_date,utc=True)"
   ]
  },
  {
   "cell_type": "code",
   "execution_count": null,
   "id": "4f71b08e",
   "metadata": {},
   "outputs": [],
   "source": [
    "# initialize Fred API\n",
    "# Note: To use FRED API you must register an account and receive an api_key\n",
    "fred = Fred(api_key = 'a1e14ac266190134fdbc578b6966ef59')"
   ]
  },
  {
   "cell_type": "code",
   "execution_count": null,
   "id": "34dc948e",
   "metadata": {},
   "outputs": [],
   "source": [
    "# GDP Historical Pull and Format\n",
    "gdp_data = fred.get_series(\"GDPC1\", observation_start = start_date, observation_end = end_date)\n",
    "gdp_df = pd.DataFrame(gdp_data)\n",
    "gdp_df.columns = [\"GDP\"]\n",
    "gdp_df.index.name = \"date\"\n",
    "gdp_df[\"GDP QoQ\"] = gdp_df[\"GDP\"].pct_change() * 100\n",
    "gdp_df[\"GDP YoY\"] = gdp_df[\"GDP\"].pct_change(4) * 100\n",
    "gdp_df = gdp_df.dropna()\n",
    "gdp_df.drop('GDP', axis=1, inplace=True)\n",
    "gdp_df.index = pd.to_datetime(gdp_df.index, utc=True)\n",
    "gdp_df"
   ]
  },
  {
   "cell_type": "code",
   "execution_count": null,
   "id": "495bc81c",
   "metadata": {},
   "outputs": [],
   "source": [
    "# CPI Historical Pull and Format (We use Median Consumer Price Index)\n",
    "cpi_data = fred.get_series(\"MEDCPIM158SFRBCLE\", observation_start = start_date, observation_end=end_date)\n",
    "cpi_df = pd.DataFrame(cpi_data)\n",
    "cpi_df.columns = [\"CPI\"]\n",
    "cpi_df.index.name = \"date\"\n",
    "cpi_df.index = pd.to_datetime(cpi_df.index, utc=True)\n",
    "cpi_df"
   ]
  },
  {
   "cell_type": "code",
   "execution_count": null,
   "id": "dd9359e8",
   "metadata": {},
   "outputs": [],
   "source": [
    "# Fed Fund Historical Pull and Format\n",
    "ff_data = fred.get_series(\"FEDFUNDS\", observation_start = start_date, observation_end = end_date)\n",
    "ff_df = pd.DataFrame(ff_data)\n",
    "ff_df.columns = [\"FEDFUNDS\"]\n",
    "ff_df.index.name = \"date\"\n",
    "ff_df.index = pd.to_datetime(ff_df.index, utc=True)\n",
    "ff_df"
   ]
  },
  {
   "cell_type": "code",
   "execution_count": null,
   "id": "23734619",
   "metadata": {},
   "outputs": [],
   "source": [
    "# Treasury (2Y, 10Y, 2-10 Spread) Historical Pull and Format\n",
    "tsy_ids = ['DGS10', 'DGS2']\n",
    "data_dict = {series_id : fred.get_series(series_id, observation_start = start_date, observation_end = end_date) \n",
    "             for series_id in tsy_ids}\n",
    "tsy_df = pd.DataFrame(data_dict)\n",
    "tsy_df.columns = [\"TSY 10YY\", \"TSY 2YY\"]\n",
    "tsy_df.index.name = \"date\"\n",
    "tsy_df.index = pd.to_datetime(tsy_df.index, utc=True)\n",
    "tsy_df[\"TSY 2-10 Spread\"] = tsy_df[\"TSY 10YY\"] - tsy_df[\"TSY 2YY\"]\n",
    "tsy_df"
   ]
  },
  {
   "cell_type": "code",
   "execution_count": null,
   "id": "c395974d",
   "metadata": {},
   "outputs": [],
   "source": [
    "# Create Macro Data that fits time-frame of the stock data (using ffill where appropriate)\n",
    "macro_data = pd.DataFrame(index=data_index) # use stock_data index for indexing of macro data\n",
    "macro_data[\"TSY 2YY\"] = tsy_df.reindex(macro_data.index, method = 'ffill')[\"TSY 2YY\"]\n",
    "macro_data[\"TSY 10YY\"] = tsy_df.reindex(macro_data.index, method = 'ffill')[\"TSY 10YY\"]\n",
    "macro_data[\"TSY 2-10 Spread\"] = tsy_df.reindex(macro_data.index, method = 'ffill')[\"TSY 2-10 Spread\"]\n",
    "macro_data[\"GDP QoQ\"] = gdp_df.reindex(macro_data.index, method = 'ffill')[\"GDP QoQ\"]\n",
    "macro_data[\"GDP YoY\"] = gdp_df.reindex(macro_data.index, method = 'ffill')[\"GDP YoY\"]\n",
    "macro_data[\"FEDFUNDS\"] = ff_df.reindex(macro_data.index, method = 'ffill')[\"FEDFUNDS\"]\n",
    "macro_data[\"CPI\"] = cpi_df.reindex(macro_data.index, method = 'ffill')[\"CPI\"]\n",
    "macro_data"
   ]
  },
  {
   "cell_type": "code",
   "execution_count": null,
   "id": "36fd5df1",
   "metadata": {
    "scrolled": true
   },
   "outputs": [],
   "source": [
    "# Incorporate Macro Data into Stock DataFrame\n",
    "data[\"TSY 2YY\"] = macro_data[\"TSY 2YY\"]\n",
    "data[\"TSY 10YY\"] = macro_data[\"TSY 10YY\"]\n",
    "data[\"TSY 2-10 Spread\"] = macro_data[\"TSY 2-10 Spread\"]\n",
    "data[\"GDP QoQ\"] = macro_data[\"GDP QoQ\"]\n",
    "data[\"GDP YoY\"] = macro_data[\"GDP YoY\"]\n",
    "data[\"FEDFUNDS\"] = macro_data[\"FEDFUNDS\"]\n",
    "data[\"CPI\"] = macro_data[\"CPI\"]\n",
    "data"
   ]
  },
  {
   "cell_type": "code",
   "execution_count": null,
   "id": "92697ec2",
   "metadata": {},
   "outputs": [],
   "source": [
    "# Export Main DataFrame with Stock and Macro Data (Update with your own filename if desired)\n",
    "data.to_csv(\"ML_data.csv\") "
   ]
  },
  {
   "cell_type": "code",
   "execution_count": null,
   "id": "34fdc42d",
   "metadata": {},
   "outputs": [],
   "source": [
    "# Export Macro only-data if desored\n",
    "macro_data.to_csv(\"macro_data.csv\")"
   ]
  },
  {
   "cell_type": "code",
   "execution_count": null,
   "id": "9e902731",
   "metadata": {},
   "outputs": [],
   "source": []
  }
 ],
 "metadata": {
  "kernelspec": {
   "display_name": "Python 3 (ipykernel)",
   "language": "python",
   "name": "python3"
  },
  "language_info": {
   "codemirror_mode": {
    "name": "ipython",
    "version": 3
   },
   "file_extension": ".py",
   "mimetype": "text/x-python",
   "name": "python",
   "nbconvert_exporter": "python",
   "pygments_lexer": "ipython3",
   "version": "3.11.5"
  }
 },
 "nbformat": 4,
 "nbformat_minor": 5
}
